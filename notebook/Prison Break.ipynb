{
 "cells": [
  {
   "attachments": {},
   "cell_type": "markdown",
   "metadata": {},
   "source": [
    "# Helicopter Escapes!\n",
    "\n",
    "In this project, we'll aim to do a simple data analysis project which will include a proses of:\n",
    "- Obtaining data from internet\n",
    "- Cleaning data\n",
    "- Analyzing data\n",
    "- Visualizing data\n",
    "\n",
    "We'll work with a [dataset of helicopter prison escapes](https://en.wikipedia.org/wiki/List_of_helicopter_prison_escapes#Actual_attempts). Here's a data sample:"
   ]
  },
  {
   "attachments": {},
   "cell_type": "markdown",
   "metadata": {},
   "source": [
    "| Date | Prison name | Country | Succeeded | Escapee(s) | Details |\n",
    "| --- | --- | --- | --- | --- | --- |\n",
    "| August 19, 1971 | Santa Martha Acatitla |  ![](//upload.wikimedia.org/wikipedia/commons/thumb/f/fc/Flag_of_Mexico.svg/23px-Flag_of_Mexico.svg.png) [Mexico](https://en.wikipedia.org/wiki/Mexico \"Mexico\") | Yes | Joel David Kaplan Carlos Antonio Contreras Castro | Joel David Kaplan was a [New York](https://en.wikipedia.org/wiki/New_York_City \"New York City\") businessman who had been arrested for murder in 1962 in [Mexico City](https://en.wikipedia.org/wiki/Mexico_City \"Mexico City\") and was incarcerated at the Santa Martha Acatitla prison in the [Iztapalapa](https://en.wikipedia.org/wiki/Iztapalapa \"Iztapalapa\") borough of Mexico City. Joel's sister, Judy Kaplan, arranged the means to help Kaplan escape, and on August 19, 1971, a helicopter landed in the prison yard. The guards mistakenly thought this was an official visit. In two minutes, Kaplan and his cellmate Carlos Antonio Contreras, a [Venezuelan](https://en.wikipedia.org/wiki/Venezuela \"Venezuela\") counterfeiter, were able to board the craft and were piloted away, before any shots were fired.<sup id=\"cite_ref-TimeMexico_9-0\" class=\"reference\"><a href=\"https://en.wikipedia.org/wiki/List_of_helicopter_prison_escapes#cite_note-TimeMexico-9\">[9]</a></sup> Both men were flown to [Texas](https://en.wikipedia.org/wiki/Texas \"Texas\") and then different planes flew Kaplan to [California](https://en.wikipedia.org/wiki/California \"California\") and Contreras to [Guatemala](https://en.wikipedia.org/wiki/Guatemala \"Guatemala\").<sup id=\"cite_ref-Kaplan_3-1\" class=\"reference\"><a href=\"https://en.wikipedia.org/wiki/List_of_helicopter_prison_escapes#cite_note-Kaplan-3\">[3]</a></sup> The Mexican government never initiated extradition proceedings against Kaplan.<sup id=\"cite_ref-TimeMexico_9-1\" class=\"reference\"><a href=\"https://en.wikipedia.org/wiki/List_of_helicopter_prison_escapes#cite_note-TimeMexico-9\">[9]</a></sup> The escape is told in a book, _The 10-Second Jailbreak: The Helicopter Escape of Joel David Kaplan_.<sup id=\"cite_ref-Kaplan_book_4-1\" class=\"reference\"><a href=\"https://en.wikipedia.org/wiki/List_of_helicopter_prison_escapes#cite_note-Kaplan_book-4\">[4]</a></sup> It also inspired the 1975 [action movie](https://en.wikipedia.org/wiki/Action_film \"Action film\") _[Breakout](https://en.wikipedia.org/wiki/Breakout_(1975_film) \"Breakout (1975 film)\")_, which starred [Charles Bronson](https://en.wikipedia.org/wiki/Charles_Bronson \"Charles Bronson\") and [Robert Duvall](https://en.wikipedia.org/wiki/Robert_Duvall \"Robert Duvall\").<sup id=\"cite_ref-TimeMexico_9-2\" class=\"reference\"><a href=\"https://en.wikipedia.org/wiki/List_of_helicopter_prison_escapes#cite_note-TimeMexico-9\">[9]</a></sup> |\n",
    "| October 31, 1973 | [Mountjoy Jail](https://en.wikipedia.org/wiki/Mountjoy_Jail \"Mountjoy Jail\") |  ![](//upload.wikimedia.org/wikipedia/commons/thumb/4/45/Flag_of_Ireland.svg/23px-Flag_of_Ireland.svg.png) [Ireland](https://en.wikipedia.org/wiki/Republic_of_Ireland \"Republic of Ireland\") | Yes | JB O'Hagan [Seamus Twomey](https://en.wikipedia.org/wiki/Seamus_Twomey \"Seamus Twomey\") Kevin Mallon | On October 31, 1973, an [IRA](https://en.wikipedia.org/wiki/Provisional_Irish_Republican_Army \"Provisional Irish Republican Army\") member hijacked a helicopter and forced the pilot to land in the exercise yard of Dublin's [Mountjoy Jail](https://en.wikipedia.org/wiki/Mountjoy_Jail \"Mountjoy Jail\")'s D Wing at 3:40 p.m., October 31, 1973. Three members of the IRA were [able to escape](https://en.wikipedia.org/wiki/1973_Mountjoy_Prison_helicopter_escape \"1973 Mountjoy Prison helicopter escape\"): [JB O'Hagan](https://en.wikipedia.org/wiki/JB_O%27Hagan \"JB O'Hagan\"), [Seamus Twomey](https://en.wikipedia.org/wiki/Seamus_Twomey \"Seamus Twomey\") and [Kevin Mallon](https://en.wikipedia.org/wiki/Kevin_Mallon_(Irish_republican) \"Kevin Mallon (Irish republican)\"). Another prisoner who also was in the prison was quoted as saying, \"One shamefaced screw apologised to the governor and said he thought it was the new Minister for Defence ([Paddy Donegan](https://en.wikipedia.org/wiki/Paddy_Donegan \"Paddy Donegan\")) arriving. I told him it was our Minister of Defence leaving.\" The Mountjoy helicopter escape became [Republican lore](https://en.wikipedia.org/wiki/Republican_Movement_(Ireland) \"Republican Movement (Ireland)\") and was immortalized by \"[The Helicopter Song](https://en.wikipedia.org/wiki/The_Helicopter_Song \"The Helicopter Song\")\", which contains the lines \"It's up like a bird and over the city. There's three men a'missing I heard the warder say\".<sup id=\"cite_ref-mountjoy_1-1\" class=\"reference\"><a href=\"https://en.wikipedia.org/wiki/List_of_helicopter_prison_escapes#cite_note-mountjoy-1\">[1]</a></sup> |\n",
    "| May 24, 1978 | [United States Penitentiary, Marion](https://en.wikipedia.org/wiki/United_States_Penitentiary,_Marion \"United States Penitentiary, Marion\") |  ![](//upload.wikimedia.org/wikipedia/en/thumb/a/a4/Flag_of_the_United_States.svg/23px-Flag_of_the_United_States.svg.png) [United States](https://en.wikipedia.org/wiki/United_States \"United States\") | No | [Garrett Brock Trapnell](https://en.wikipedia.org/wiki/Garrett_Brock_Trapnell \"Garrett Brock Trapnell\") Martin Joseph McNally James Kenneth Johnson | 43-year-old Barbara Ann Oswald hijacked a [Saint Louis](https://en.wikipedia.org/wiki/St._Louis,_Missouri \"St. Louis, Missouri\")\\-based charter helicopter and forced the pilot to land in the yard at USP Marion. While landing the aircraft, the pilot, Allen Barklage, who was a [Vietnam War](https://en.wikipedia.org/wiki/Vietnam_War \"Vietnam War\") veteran, struggled with Oswald and managed to wrestle the gun away from her. Barklage then shot and killed Oswald, thwarting the escape.<sup id=\"cite_ref-St._Joseph_News-Press_10-0\" class=\"reference\"><a href=\"https://en.wikipedia.org/wiki/List_of_helicopter_prison_escapes#cite_note-St._Joseph_News-Press-10\">[10]</a></sup> A few months later Oswald's daughter [hijacked TWA Flight 541](https://en.wikipedia.org/wiki/TWA_Flight_541 \"TWA Flight 541\") in an effort to free Trapnell. |"
   ]
  },
  {
   "attachments": {},
   "cell_type": "markdown",
   "metadata": {},
   "source": [
    "We'll analyze the data about helicopter prison escapes to answer the following questions:\n",
    "- Which year did the most helicopter prison break attempts occur?\n",
    "- Which countries do the most attempted helicopter prison escapes occur?\n",
    "- Which countries do the helicopter prison breaks have a higher chance of success?\n",
    "- How does the number of escapees affect the success?\n",
    "- Which escapees have done it more than once?"
   ]
  },
  {
   "attachments": {},
   "cell_type": "markdown",
   "metadata": {},
   "source": [
    "### Summary\n",
    "\n"
   ]
  },
  {
   "attachments": {},
   "cell_type": "markdown",
   "metadata": {},
   "source": [
    "After analyzing the data, we know that the number of escapees is the most important factor in the success of a helicopter prison break. The more escapees, the higher the chance of success. Given that, the United States and Canada are the country that has highest chance of success in a helicopter prison break, is actually because of most of the attempts are attempted by more than one escapees.\n"
   ]
  },
  {
   "attachments": {},
   "cell_type": "markdown",
   "metadata": {},
   "source": [
    "## Obtaining the Data"
   ]
  },
  {
   "attachments": {},
   "cell_type": "markdown",
   "metadata": {},
   "source": [
    "As mentioned before, the data that we'll be using are available in this [Wikipedia article](https://en.wikipedia.org/wiki/List_of_helicopter_prison_escapes). So, we'll use the `requests` to get the HTML content of the page and the `pandas.read_html()` to parse the HTML content."
   ]
  },
  {
   "cell_type": "code",
   "execution_count": 1,
   "metadata": {},
   "outputs": [],
   "source": [
    "# import libraries\n",
    "import pandas as pd\n",
    "import numpy as np\n",
    "import requests\n",
    "\n",
    "# Get the HTML content from the Wikipedia page\n",
    "url = \"https://en.wikipedia.org/wiki/List_of_helicopter_prison_escapes\"\n",
    "page = requests.get(url) "
   ]
  },
  {
   "attachments": {},
   "cell_type": "markdown",
   "metadata": {},
   "source": [
    "Now, the HTML content of the page is available in the `page` variable. We'll use the `pandas.read_html()` to parse the HTML content and get the data in a `list` of `DataFrame` objects. We'll store the data in the `attempt_record` variable. We'll also take a look at the first 5 rows of the data and the data types of the columns to get a better understanding of the data."
   ]
  },
  {
   "cell_type": "code",
   "execution_count": 2,
   "metadata": {},
   "outputs": [
    {
     "data": {
      "text/html": [
       "<div>\n",
       "<style scoped>\n",
       "    .dataframe tbody tr th:only-of-type {\n",
       "        vertical-align: middle;\n",
       "    }\n",
       "\n",
       "    .dataframe tbody tr th {\n",
       "        vertical-align: top;\n",
       "    }\n",
       "\n",
       "    .dataframe thead th {\n",
       "        text-align: right;\n",
       "    }\n",
       "</style>\n",
       "<table border=\"1\" class=\"dataframe\">\n",
       "  <thead>\n",
       "    <tr style=\"text-align: right;\">\n",
       "      <th></th>\n",
       "      <th>Date</th>\n",
       "      <th>Prison name</th>\n",
       "      <th>Country</th>\n",
       "      <th>Succeeded</th>\n",
       "      <th>Escapee(s)</th>\n",
       "      <th>Details</th>\n",
       "    </tr>\n",
       "  </thead>\n",
       "  <tbody>\n",
       "    <tr>\n",
       "      <th>0</th>\n",
       "      <td>August 19, 1971</td>\n",
       "      <td>Santa Martha Acatitla</td>\n",
       "      <td>Mexico</td>\n",
       "      <td>Yes</td>\n",
       "      <td>Joel David Kaplan Carlos Antonio Contreras Castro</td>\n",
       "      <td>Joel David Kaplan was a New York businessman w...</td>\n",
       "    </tr>\n",
       "    <tr>\n",
       "      <th>1</th>\n",
       "      <td>October 31, 1973</td>\n",
       "      <td>Mountjoy Jail</td>\n",
       "      <td>Ireland</td>\n",
       "      <td>Yes</td>\n",
       "      <td>JB O'Hagan; Seamus Twomey;Kevin Mallon</td>\n",
       "      <td>On October 31, 1973, an IRA member hijacked a ...</td>\n",
       "    </tr>\n",
       "    <tr>\n",
       "      <th>2</th>\n",
       "      <td>May 24, 1978</td>\n",
       "      <td>United States Penitentiary, Marion</td>\n",
       "      <td>United States</td>\n",
       "      <td>No</td>\n",
       "      <td>Garrett Brock Trapnell;Martin Joseph McNally;J...</td>\n",
       "      <td>43-year-old Barbara Ann Oswald hijacked a Sain...</td>\n",
       "    </tr>\n",
       "    <tr>\n",
       "      <th>3</th>\n",
       "      <td>February 27, 1981</td>\n",
       "      <td>Fleury-Mérogis, Essonne, Ile de France</td>\n",
       "      <td>France</td>\n",
       "      <td>Yes</td>\n",
       "      <td>Gérard Dupré;Daniel Beaumont</td>\n",
       "      <td>With the help of Serge Coutel, Gérard Dupré an...</td>\n",
       "    </tr>\n",
       "    <tr>\n",
       "      <th>4</th>\n",
       "      <td>May 7, 1981</td>\n",
       "      <td>Orsainville Prison, Quebec City</td>\n",
       "      <td>Canada</td>\n",
       "      <td>No</td>\n",
       "      <td>Marina Paquet (hijacker);Giles Arseneault (pri...</td>\n",
       "      <td>Marina Paquet held a sawed off shotgun against...</td>\n",
       "    </tr>\n",
       "  </tbody>\n",
       "</table>\n",
       "</div>"
      ],
      "text/plain": [
       "                Date                             Prison name        Country  \\\n",
       "0    August 19, 1971                   Santa Martha Acatitla         Mexico   \n",
       "1   October 31, 1973                           Mountjoy Jail        Ireland   \n",
       "2       May 24, 1978      United States Penitentiary, Marion  United States   \n",
       "3  February 27, 1981  Fleury-Mérogis, Essonne, Ile de France         France   \n",
       "4        May 7, 1981         Orsainville Prison, Quebec City         Canada   \n",
       "\n",
       "  Succeeded                                         Escapee(s)  \\\n",
       "0       Yes  Joel David Kaplan Carlos Antonio Contreras Castro   \n",
       "1       Yes             JB O'Hagan; Seamus Twomey;Kevin Mallon   \n",
       "2        No  Garrett Brock Trapnell;Martin Joseph McNally;J...   \n",
       "3       Yes                       Gérard Dupré;Daniel Beaumont   \n",
       "4        No  Marina Paquet (hijacker);Giles Arseneault (pri...   \n",
       "\n",
       "                                             Details  \n",
       "0  Joel David Kaplan was a New York businessman w...  \n",
       "1  On October 31, 1973, an IRA member hijacked a ...  \n",
       "2  43-year-old Barbara Ann Oswald hijacked a Sain...  \n",
       "3  With the help of Serge Coutel, Gérard Dupré an...  \n",
       "4  Marina Paquet held a sawed off shotgun against...  "
      ]
     },
     "execution_count": 2,
     "metadata": {},
     "output_type": "execute_result"
    }
   ],
   "source": [
    "# Extract the table from the HTML content\n",
    "attempt_record = pd.read_html(page.text.replace('<br />', ';'))[1] # <br /> is replaced by ; to later split the escapees names\n",
    "attempt_record.head()"
   ]
  },
  {
   "cell_type": "code",
   "execution_count": 3,
   "metadata": {},
   "outputs": [
    {
     "name": "stdout",
     "output_type": "stream",
     "text": [
      "<class 'pandas.core.frame.DataFrame'>\n",
      "RangeIndex: 48 entries, 0 to 47\n",
      "Data columns (total 6 columns):\n",
      " #   Column       Non-Null Count  Dtype \n",
      "---  ------       --------------  ----- \n",
      " 0   Date         48 non-null     object\n",
      " 1   Prison name  48 non-null     object\n",
      " 2   Country      48 non-null     object\n",
      " 3   Succeeded    48 non-null     object\n",
      " 4   Escapee(s)   48 non-null     object\n",
      " 5   Details      48 non-null     object\n",
      "dtypes: object(6)\n",
      "memory usage: 2.4+ KB\n"
     ]
    }
   ],
   "source": [
    "attempt_record.info()"
   ]
  },
  {
   "attachments": {},
   "cell_type": "markdown",
   "metadata": {},
   "source": [
    "## Cleaning the Data for Analysis"
   ]
  },
  {
   "attachments": {},
   "cell_type": "markdown",
   "metadata": {},
   "source": [
    "Now, we get a better understanding of the data. We can see that the data is in a good shape. The problem is that both `Date` and `Succeeded` column is in the `str` data type. We'll need to convert the `Date` column data type from `str` into `datetime` and the `Succeeded` columns data type from `str` into `bool`."
   ]
  },
  {
   "cell_type": "code",
   "execution_count": 4,
   "metadata": {},
   "outputs": [],
   "source": [
    "# Convert the Date column to datetime\n",
    "attempt_record[\"Date\"] = pd.to_datetime(attempt_record[\"Date\"])\n",
    "\n",
    "# Convert the Succeeded column to boolean\n",
    "attempt_record[\"Succeeded\"] = attempt_record[\"Succeeded\"].map({\"Yes\": True, \"No\": False})"
   ]
  },
  {
   "attachments": {},
   "cell_type": "markdown",
   "metadata": {},
   "source": [
    "We don't need the `Details` column. So, we'll drop it. We'll also rename the `Escapee(s)` column to `Escappees` and rename all column into lowercase."
   ]
  },
  {
   "cell_type": "code",
   "execution_count": 5,
   "metadata": {},
   "outputs": [],
   "source": [
    "# Remove the Details column\n",
    "attempt_record.drop(columns=[\"Details\"], inplace=True)\n",
    "\n",
    "# Rename the columns\n",
    "attempt_record.rename(columns={\"Escapee(s)\": \"Escappees\"}, inplace=True)\n",
    "attempt_record.columns = [col.lower() for col in attempt_record.columns]"
   ]
  },
  {
   "attachments": {},
   "cell_type": "markdown",
   "metadata": {},
   "source": [
    "Since we want to analyze the escapees who have done it more than once, we'll need to extract the names of the escapees from the `escapees` column. We'll use the `str.split()` to split the names of the escapees and the `explode()` to split the names of the escapees into multiple rows. We'll store the result in the `escapees_attempt` variable."
   ]
  },
  {
   "cell_type": "code",
   "execution_count": 6,
   "metadata": {},
   "outputs": [],
   "source": [
    "# Copy the dataframe into a new one\n",
    "escapees_attempt = attempt_record.copy()\n",
    "\n",
    "# Split the escapees names\n",
    "escapees_attempt.replace('—', np.nan, inplace=True) # replace the — with NaN\n",
    "escapees_attempt[\"escappees\"] = escapees_attempt[\"escappees\"].str.replace(\"\\(hijacker\\)|\\(prisoner\\)\", '', regex=True) # remove the (hijacker) and (prisoner) from the names\n",
    "escapees_attempt[\"escappees\"] = escapees_attempt[\"escappees\"].str.split(\";\")\n",
    "\n",
    "# Explode the dataframe\n",
    "escapees_attempt = escapees_attempt.explode(\"escappees\")\n",
    "escapees_attempt[\"escappees\"] = escapees_attempt[\"escappees\"].str.strip() # remove the leading and trailing spaces\n",
    "escapees_attempt = escapees_attempt[escapees_attempt[\"escappees\"].str.len() > 0] # remove the empty rows"
   ]
  },
  {
   "attachments": {},
   "cell_type": "markdown",
   "metadata": {},
   "source": [
    "Now, let's take a look at the data before proceeding to the analysis."
   ]
  },
  {
   "cell_type": "code",
   "execution_count": 7,
   "metadata": {},
   "outputs": [
    {
     "data": {
      "text/html": [
       "<div>\n",
       "<style scoped>\n",
       "    .dataframe tbody tr th:only-of-type {\n",
       "        vertical-align: middle;\n",
       "    }\n",
       "\n",
       "    .dataframe tbody tr th {\n",
       "        vertical-align: top;\n",
       "    }\n",
       "\n",
       "    .dataframe thead th {\n",
       "        text-align: right;\n",
       "    }\n",
       "</style>\n",
       "<table border=\"1\" class=\"dataframe\">\n",
       "  <thead>\n",
       "    <tr style=\"text-align: right;\">\n",
       "      <th></th>\n",
       "      <th>date</th>\n",
       "      <th>prison name</th>\n",
       "      <th>country</th>\n",
       "      <th>succeeded</th>\n",
       "      <th>escappees</th>\n",
       "    </tr>\n",
       "  </thead>\n",
       "  <tbody>\n",
       "    <tr>\n",
       "      <th>0</th>\n",
       "      <td>1971-08-19</td>\n",
       "      <td>Santa Martha Acatitla</td>\n",
       "      <td>Mexico</td>\n",
       "      <td>True</td>\n",
       "      <td>Joel David Kaplan Carlos Antonio Contreras Castro</td>\n",
       "    </tr>\n",
       "    <tr>\n",
       "      <th>1</th>\n",
       "      <td>1973-10-31</td>\n",
       "      <td>Mountjoy Jail</td>\n",
       "      <td>Ireland</td>\n",
       "      <td>True</td>\n",
       "      <td>JB O'Hagan; Seamus Twomey;Kevin Mallon</td>\n",
       "    </tr>\n",
       "    <tr>\n",
       "      <th>2</th>\n",
       "      <td>1978-05-24</td>\n",
       "      <td>United States Penitentiary, Marion</td>\n",
       "      <td>United States</td>\n",
       "      <td>False</td>\n",
       "      <td>Garrett Brock Trapnell;Martin Joseph McNally;J...</td>\n",
       "    </tr>\n",
       "    <tr>\n",
       "      <th>3</th>\n",
       "      <td>1981-02-27</td>\n",
       "      <td>Fleury-Mérogis, Essonne, Ile de France</td>\n",
       "      <td>France</td>\n",
       "      <td>True</td>\n",
       "      <td>Gérard Dupré;Daniel Beaumont</td>\n",
       "    </tr>\n",
       "    <tr>\n",
       "      <th>4</th>\n",
       "      <td>1981-05-07</td>\n",
       "      <td>Orsainville Prison, Quebec City</td>\n",
       "      <td>Canada</td>\n",
       "      <td>False</td>\n",
       "      <td>Marina Paquet (hijacker);Giles Arseneault (pri...</td>\n",
       "    </tr>\n",
       "  </tbody>\n",
       "</table>\n",
       "</div>"
      ],
      "text/plain": [
       "        date                             prison name        country  \\\n",
       "0 1971-08-19                   Santa Martha Acatitla         Mexico   \n",
       "1 1973-10-31                           Mountjoy Jail        Ireland   \n",
       "2 1978-05-24      United States Penitentiary, Marion  United States   \n",
       "3 1981-02-27  Fleury-Mérogis, Essonne, Ile de France         France   \n",
       "4 1981-05-07         Orsainville Prison, Quebec City         Canada   \n",
       "\n",
       "   succeeded                                          escappees  \n",
       "0       True  Joel David Kaplan Carlos Antonio Contreras Castro  \n",
       "1       True             JB O'Hagan; Seamus Twomey;Kevin Mallon  \n",
       "2      False  Garrett Brock Trapnell;Martin Joseph McNally;J...  \n",
       "3       True                       Gérard Dupré;Daniel Beaumont  \n",
       "4      False  Marina Paquet (hijacker);Giles Arseneault (pri...  "
      ]
     },
     "execution_count": 7,
     "metadata": {},
     "output_type": "execute_result"
    }
   ],
   "source": [
    "attempt_record.head()"
   ]
  },
  {
   "cell_type": "code",
   "execution_count": 8,
   "metadata": {},
   "outputs": [
    {
     "name": "stdout",
     "output_type": "stream",
     "text": [
      "<class 'pandas.core.frame.DataFrame'>\n",
      "RangeIndex: 48 entries, 0 to 47\n",
      "Data columns (total 5 columns):\n",
      " #   Column       Non-Null Count  Dtype         \n",
      "---  ------       --------------  -----         \n",
      " 0   date         48 non-null     datetime64[ns]\n",
      " 1   prison name  48 non-null     object        \n",
      " 2   country      48 non-null     object        \n",
      " 3   succeeded    48 non-null     bool          \n",
      " 4   escappees    48 non-null     object        \n",
      "dtypes: bool(1), datetime64[ns](1), object(3)\n",
      "memory usage: 1.7+ KB\n"
     ]
    }
   ],
   "source": [
    "attempt_record.info()"
   ]
  },
  {
   "cell_type": "code",
   "execution_count": 9,
   "metadata": {},
   "outputs": [
    {
     "data": {
      "text/html": [
       "<div>\n",
       "<style scoped>\n",
       "    .dataframe tbody tr th:only-of-type {\n",
       "        vertical-align: middle;\n",
       "    }\n",
       "\n",
       "    .dataframe tbody tr th {\n",
       "        vertical-align: top;\n",
       "    }\n",
       "\n",
       "    .dataframe thead th {\n",
       "        text-align: right;\n",
       "    }\n",
       "</style>\n",
       "<table border=\"1\" class=\"dataframe\">\n",
       "  <thead>\n",
       "    <tr style=\"text-align: right;\">\n",
       "      <th></th>\n",
       "      <th>date</th>\n",
       "      <th>prison name</th>\n",
       "      <th>country</th>\n",
       "      <th>succeeded</th>\n",
       "      <th>escappees</th>\n",
       "    </tr>\n",
       "  </thead>\n",
       "  <tbody>\n",
       "    <tr>\n",
       "      <th>0</th>\n",
       "      <td>1971-08-19</td>\n",
       "      <td>Santa Martha Acatitla</td>\n",
       "      <td>Mexico</td>\n",
       "      <td>True</td>\n",
       "      <td>Joel David Kaplan Carlos Antonio Contreras Castro</td>\n",
       "    </tr>\n",
       "    <tr>\n",
       "      <th>1</th>\n",
       "      <td>1973-10-31</td>\n",
       "      <td>Mountjoy Jail</td>\n",
       "      <td>Ireland</td>\n",
       "      <td>True</td>\n",
       "      <td>JB O'Hagan</td>\n",
       "    </tr>\n",
       "    <tr>\n",
       "      <th>1</th>\n",
       "      <td>1973-10-31</td>\n",
       "      <td>Mountjoy Jail</td>\n",
       "      <td>Ireland</td>\n",
       "      <td>True</td>\n",
       "      <td>Seamus Twomey</td>\n",
       "    </tr>\n",
       "    <tr>\n",
       "      <th>1</th>\n",
       "      <td>1973-10-31</td>\n",
       "      <td>Mountjoy Jail</td>\n",
       "      <td>Ireland</td>\n",
       "      <td>True</td>\n",
       "      <td>Kevin Mallon</td>\n",
       "    </tr>\n",
       "    <tr>\n",
       "      <th>2</th>\n",
       "      <td>1978-05-24</td>\n",
       "      <td>United States Penitentiary, Marion</td>\n",
       "      <td>United States</td>\n",
       "      <td>False</td>\n",
       "      <td>Garrett Brock Trapnell</td>\n",
       "    </tr>\n",
       "  </tbody>\n",
       "</table>\n",
       "</div>"
      ],
      "text/plain": [
       "        date                         prison name        country  succeeded  \\\n",
       "0 1971-08-19               Santa Martha Acatitla         Mexico       True   \n",
       "1 1973-10-31                       Mountjoy Jail        Ireland       True   \n",
       "1 1973-10-31                       Mountjoy Jail        Ireland       True   \n",
       "1 1973-10-31                       Mountjoy Jail        Ireland       True   \n",
       "2 1978-05-24  United States Penitentiary, Marion  United States      False   \n",
       "\n",
       "                                           escappees  \n",
       "0  Joel David Kaplan Carlos Antonio Contreras Castro  \n",
       "1                                         JB O'Hagan  \n",
       "1                                      Seamus Twomey  \n",
       "1                                       Kevin Mallon  \n",
       "2                             Garrett Brock Trapnell  "
      ]
     },
     "execution_count": 9,
     "metadata": {},
     "output_type": "execute_result"
    }
   ],
   "source": [
    "escapees_attempt.head()"
   ]
  },
  {
   "cell_type": "code",
   "execution_count": 10,
   "metadata": {},
   "outputs": [
    {
     "name": "stdout",
     "output_type": "stream",
     "text": [
      "<class 'pandas.core.frame.DataFrame'>\n",
      "Int64Index: 72 entries, 0 to 47\n",
      "Data columns (total 5 columns):\n",
      " #   Column       Non-Null Count  Dtype         \n",
      "---  ------       --------------  -----         \n",
      " 0   date         72 non-null     datetime64[ns]\n",
      " 1   prison name  72 non-null     object        \n",
      " 2   country      72 non-null     object        \n",
      " 3   succeeded    72 non-null     bool          \n",
      " 4   escappees    72 non-null     object        \n",
      "dtypes: bool(1), datetime64[ns](1), object(3)\n",
      "memory usage: 2.9+ KB\n"
     ]
    }
   ],
   "source": [
    "escapees_attempt.info()"
   ]
  },
  {
   "attachments": {},
   "cell_type": "markdown",
   "metadata": {},
   "source": [
    "Great! Now, we have the data in a good shape for analysis."
   ]
  },
  {
   "attachments": {},
   "cell_type": "markdown",
   "metadata": {},
   "source": [
    "## Analyzing the Data"
   ]
  },
  {
   "attachments": {},
   "cell_type": "markdown",
   "metadata": {},
   "source": [
    "Before we start analyzing the data, we'll need import visualization libraries. We'll use the `matplotlib` and `seaborn` for visualization."
   ]
  },
  {
   "cell_type": "code",
   "execution_count": 11,
   "metadata": {},
   "outputs": [],
   "source": [
    "# import libraries\n",
    "from matplotlib import pyplot as plt\n",
    "import seaborn as sns\n",
    "\n",
    "# Set the style\n",
    "sns.set_style(\"whitegrid\")"
   ]
  },
  {
   "attachments": {},
   "cell_type": "markdown",
   "metadata": {},
   "source": [
    "## First Question: Which Year Did the Most Helicopter Prison Break Attempts Occur?"
   ]
  },
  {
   "cell_type": "code",
   "execution_count": 12,
   "metadata": {},
   "outputs": [
    {
     "data": {
      "image/png": "[encoded data removed]",
      "text/plain": [
       "<Figure size 1500x500 with 1 Axes>"
      ]
     },
     "metadata": {},
     "output_type": "display_data"
    }
   ],
   "source": [
    "# Number of attempts by year\n",
    "attempt_by_year = (attempt_record.groupby([\"date\", \"succeeded\"])\n",
    "                                    .size() # count the number of rows\n",
    "                                    .unstack() # create a new column for each value of the succeeded column\n",
    "                                    .resample(\"A\").sum()) # group data by year and sum the values\n",
    "\n",
    "# Plot the bar chart\n",
    "plt.figure(figsize=(15, 5))\n",
    "\n",
    "sns.barplot(x=attempt_by_year.index.year, \n",
    "            y=attempt_by_year[True], \n",
    "            color=\"red\", \n",
    "            bottom=attempt_by_year[False], # bottom is used to stack the bars\n",
    "            label=\"Succeeded\")\n",
    "\n",
    "sns.barplot(x=attempt_by_year.index.year, \n",
    "            y=attempt_by_year[False], \n",
    "            color=\"green\",\n",
    "            label=\"Failed\")\n",
    "\n",
    "plt.title(\"Helicopter Prison Escapes Success Rate by Year\")\n",
    "\n",
    "plt.legend()\n",
    "\n",
    "plt.xticks(rotation=45)\n",
    "plt.xlabel(\"Year\")\n",
    "\n",
    "plt.ylabel(\"Number of Attempts\")\n",
    "\n",
    "plt.show()"
   ]
  },
  {
   "attachments": {},
   "cell_type": "markdown",
   "metadata": {},
   "source": [
    "As we can see, the most helicopter prison break attempts occurred 4 times in 1986, 2001, 2007, and 2009 while in 2001 and 2007 only one attempt was failed. Surprisingly, most of the attempts were successful which 34 successful attempts out of 48 attempts."
   ]
  },
  {
   "attachments": {},
   "cell_type": "markdown",
   "metadata": {},
   "source": [
    "## Second & Third Questions: Which Countries Do the Most Attempted Helicopter Prison Escapes Occur & Which Have a Higher Chance of Success?"
   ]
  },
  {
   "cell_type": "code",
   "execution_count": 13,
   "metadata": {},
   "outputs": [
    {
     "data": {
      "image/png": "[encoded data removed]",
      "text/plain": [
       "<Figure size 640x480 with 1 Axes>"
      ]
     },
     "metadata": {},
     "output_type": "display_data"
    }
   ],
   "source": [
    "# Number of attempts by country\n",
    "attempts_by_country = (attempt_record.groupby([\"country\", \"succeeded\"])\n",
    "                                        .size() # count the number of rows\n",
    "                                        .unstack() # create a new column for each value of the succeeded column\n",
    "                                        .fillna(0)) # replace the NaN with 0\n",
    "\n",
    "# Total number of attempts by country to sort the dataframe\n",
    "attempts_by_country[\"total\"] = attempts_by_country.sum(axis=1)\n",
    "attempts_by_country = attempts_by_country.sort_values(by=\"total\", ascending=False)\n",
    "\n",
    "# plot the bar chart\n",
    "sns.barplot(x=attempts_by_country[True], y=attempts_by_country.index, color=\"red\")\n",
    "sns.barplot(x=attempts_by_country[False], y=attempts_by_country.index, color=\"green\", left=attempts_by_country[True])\n",
    "\n",
    "plt.show()"
   ]
  },
  {
   "attachments": {},
   "cell_type": "markdown",
   "metadata": {},
   "source": [
    "France have the most attempted helicopter prison escapes with 15 attempts followed by the United States with 7 attempts. Even though France have the most attempted helicopter prison escapes, the United States & Canada have the highest chance of success with 6 successful attempts out of 8 attempts for the United States and 3 successful attempts out of 4 attempts for Canada while France 11 successful attempt out of 14 attempts which consideribly high.\n",
    "\n",
    "This leaves a question does the attempts happen in the same prison? Let's take a look at the data."
   ]
  },
  {
   "cell_type": "code",
   "execution_count": 14,
   "metadata": {},
   "outputs": [
    {
     "data": {
      "text/html": [
       "<div>\n",
       "<style scoped>\n",
       "    .dataframe tbody tr th:only-of-type {\n",
       "        vertical-align: middle;\n",
       "    }\n",
       "\n",
       "    .dataframe tbody tr th {\n",
       "        vertical-align: top;\n",
       "    }\n",
       "\n",
       "    .dataframe thead th {\n",
       "        text-align: right;\n",
       "    }\n",
       "</style>\n",
       "<table border=\"1\" class=\"dataframe\">\n",
       "  <thead>\n",
       "    <tr style=\"text-align: right;\">\n",
       "      <th></th>\n",
       "      <th>number of attempts</th>\n",
       "      <th>number of prisons</th>\n",
       "    </tr>\n",
       "    <tr>\n",
       "      <th>country</th>\n",
       "      <th></th>\n",
       "      <th></th>\n",
       "    </tr>\n",
       "  </thead>\n",
       "  <tbody>\n",
       "    <tr>\n",
       "      <th>France</th>\n",
       "      <td>15</td>\n",
       "      <td>13</td>\n",
       "    </tr>\n",
       "    <tr>\n",
       "      <th>United States</th>\n",
       "      <td>8</td>\n",
       "      <td>8</td>\n",
       "    </tr>\n",
       "    <tr>\n",
       "      <th>Belgium</th>\n",
       "      <td>4</td>\n",
       "      <td>4</td>\n",
       "    </tr>\n",
       "    <tr>\n",
       "      <th>Canada</th>\n",
       "      <td>4</td>\n",
       "      <td>4</td>\n",
       "    </tr>\n",
       "    <tr>\n",
       "      <th>Greece</th>\n",
       "      <td>4</td>\n",
       "      <td>3</td>\n",
       "    </tr>\n",
       "    <tr>\n",
       "      <th>Australia</th>\n",
       "      <td>2</td>\n",
       "      <td>2</td>\n",
       "    </tr>\n",
       "    <tr>\n",
       "      <th>Brazil</th>\n",
       "      <td>2</td>\n",
       "      <td>2</td>\n",
       "    </tr>\n",
       "    <tr>\n",
       "      <th>United Kingdom</th>\n",
       "      <td>2</td>\n",
       "      <td>2</td>\n",
       "    </tr>\n",
       "    <tr>\n",
       "      <th>Chile</th>\n",
       "      <td>1</td>\n",
       "      <td>1</td>\n",
       "    </tr>\n",
       "    <tr>\n",
       "      <th>Ireland</th>\n",
       "      <td>1</td>\n",
       "      <td>1</td>\n",
       "    </tr>\n",
       "    <tr>\n",
       "      <th>Italy</th>\n",
       "      <td>1</td>\n",
       "      <td>1</td>\n",
       "    </tr>\n",
       "    <tr>\n",
       "      <th>Mexico</th>\n",
       "      <td>1</td>\n",
       "      <td>1</td>\n",
       "    </tr>\n",
       "    <tr>\n",
       "      <th>Netherlands</th>\n",
       "      <td>1</td>\n",
       "      <td>1</td>\n",
       "    </tr>\n",
       "    <tr>\n",
       "      <th>Puerto Rico</th>\n",
       "      <td>1</td>\n",
       "      <td>1</td>\n",
       "    </tr>\n",
       "    <tr>\n",
       "      <th>Russia</th>\n",
       "      <td>1</td>\n",
       "      <td>1</td>\n",
       "    </tr>\n",
       "  </tbody>\n",
       "</table>\n",
       "</div>"
      ],
      "text/plain": [
       "                number of attempts  number of prisons\n",
       "country                                              \n",
       "France                          15                 13\n",
       "United States                    8                  8\n",
       "Belgium                          4                  4\n",
       "Canada                           4                  4\n",
       "Greece                           4                  3\n",
       "Australia                        2                  2\n",
       "Brazil                           2                  2\n",
       "United Kingdom                   2                  2\n",
       "Chile                            1                  1\n",
       "Ireland                          1                  1\n",
       "Italy                            1                  1\n",
       "Mexico                           1                  1\n",
       "Netherlands                      1                  1\n",
       "Puerto Rico                      1                  1\n",
       "Russia                           1                  1"
      ]
     },
     "execution_count": 14,
     "metadata": {},
     "output_type": "execute_result"
    }
   ],
   "source": [
    "# Number of prisons by country\n",
    "(attempt_record.groupby(\"country\")\n",
    "                .agg({\"country\": \"count\", \"prison name\": \"nunique\"})\n",
    "                .rename(columns={\"country\": \"number of attempts\", \"prison name\": \"number of prisons\"})\n",
    "                .sort_values(\"number of prisons\", ascending=False)\n",
    ")"
   ]
  },
  {
   "attachments": {},
   "cell_type": "markdown",
   "metadata": {},
   "source": [
    "So, almost every single attempts is actually from different prisons. This means that the number of attempts is not the factor that affects the success of the escape. We'll need to take a look at the number of escapees."
   ]
  },
  {
   "attachments": {},
   "cell_type": "markdown",
   "metadata": {},
   "source": [
    "## Question Four: How Does the Number of Escapees Affect the Success?"
   ]
  },
  {
   "attachments": {},
   "cell_type": "markdown",
   "metadata": {},
   "source": [
    "First we need to extract the number of escapees from the `escapees` column to determine in one attempt(one row) how many escapees are there. We'll use the `str.split()` to split the names of the escapees into a `list` and use the `apply()` function to apply the `len()` function to the `list` to get the number of escapees. We'll store the result in the `number_of_escapees` column."
   ]
  },
  {
   "cell_type": "code",
   "execution_count": 15,
   "metadata": {},
   "outputs": [
    {
     "data": {
      "text/html": [
       "<div>\n",
       "<style scoped>\n",
       "    .dataframe tbody tr th:only-of-type {\n",
       "        vertical-align: middle;\n",
       "    }\n",
       "\n",
       "    .dataframe tbody tr th {\n",
       "        vertical-align: top;\n",
       "    }\n",
       "\n",
       "    .dataframe thead th {\n",
       "        text-align: right;\n",
       "    }\n",
       "</style>\n",
       "<table border=\"1\" class=\"dataframe\">\n",
       "  <thead>\n",
       "    <tr style=\"text-align: right;\">\n",
       "      <th></th>\n",
       "      <th>date</th>\n",
       "      <th>prison name</th>\n",
       "      <th>country</th>\n",
       "      <th>succeeded</th>\n",
       "      <th>escappees</th>\n",
       "      <th>number_of_escapees</th>\n",
       "    </tr>\n",
       "  </thead>\n",
       "  <tbody>\n",
       "    <tr>\n",
       "      <th>0</th>\n",
       "      <td>1971-08-19</td>\n",
       "      <td>Santa Martha Acatitla</td>\n",
       "      <td>Mexico</td>\n",
       "      <td>True</td>\n",
       "      <td>Joel David Kaplan Carlos Antonio Contreras Castro</td>\n",
       "      <td>1</td>\n",
       "    </tr>\n",
       "    <tr>\n",
       "      <th>1</th>\n",
       "      <td>1973-10-31</td>\n",
       "      <td>Mountjoy Jail</td>\n",
       "      <td>Ireland</td>\n",
       "      <td>True</td>\n",
       "      <td>JB O'Hagan; Seamus Twomey;Kevin Mallon</td>\n",
       "      <td>3</td>\n",
       "    </tr>\n",
       "    <tr>\n",
       "      <th>2</th>\n",
       "      <td>1978-05-24</td>\n",
       "      <td>United States Penitentiary, Marion</td>\n",
       "      <td>United States</td>\n",
       "      <td>False</td>\n",
       "      <td>Garrett Brock Trapnell;Martin Joseph McNally;J...</td>\n",
       "      <td>3</td>\n",
       "    </tr>\n",
       "    <tr>\n",
       "      <th>3</th>\n",
       "      <td>1981-02-27</td>\n",
       "      <td>Fleury-Mérogis, Essonne, Ile de France</td>\n",
       "      <td>France</td>\n",
       "      <td>True</td>\n",
       "      <td>Gérard Dupré;Daniel Beaumont</td>\n",
       "      <td>2</td>\n",
       "    </tr>\n",
       "    <tr>\n",
       "      <th>4</th>\n",
       "      <td>1981-05-07</td>\n",
       "      <td>Orsainville Prison, Quebec City</td>\n",
       "      <td>Canada</td>\n",
       "      <td>False</td>\n",
       "      <td>Marina Paquet (hijacker);Giles Arseneault (pri...</td>\n",
       "      <td>2</td>\n",
       "    </tr>\n",
       "  </tbody>\n",
       "</table>\n",
       "</div>"
      ],
      "text/plain": [
       "        date                             prison name        country  \\\n",
       "0 1971-08-19                   Santa Martha Acatitla         Mexico   \n",
       "1 1973-10-31                           Mountjoy Jail        Ireland   \n",
       "2 1978-05-24      United States Penitentiary, Marion  United States   \n",
       "3 1981-02-27  Fleury-Mérogis, Essonne, Ile de France         France   \n",
       "4 1981-05-07         Orsainville Prison, Quebec City         Canada   \n",
       "\n",
       "   succeeded                                          escappees  \\\n",
       "0       True  Joel David Kaplan Carlos Antonio Contreras Castro   \n",
       "1       True             JB O'Hagan; Seamus Twomey;Kevin Mallon   \n",
       "2      False  Garrett Brock Trapnell;Martin Joseph McNally;J...   \n",
       "3       True                       Gérard Dupré;Daniel Beaumont   \n",
       "4      False  Marina Paquet (hijacker);Giles Arseneault (pri...   \n",
       "\n",
       "   number_of_escapees  \n",
       "0                   1  \n",
       "1                   3  \n",
       "2                   3  \n",
       "3                   2  \n",
       "4                   2  "
      ]
     },
     "execution_count": 15,
     "metadata": {},
     "output_type": "execute_result"
    }
   ],
   "source": [
    "# Number of escapees\n",
    "attempt_record[\"number_of_escapees\"] = attempt_record[\"escappees\"].str.split(\";\").apply(len)\n",
    "attempt_record.head()"
   ]
  },
  {
   "cell_type": "code",
   "execution_count": 16,
   "metadata": {},
   "outputs": [
    {
     "data": {
      "image/png": "[encoded data removed]",
      "text/plain": [
       "<Figure size 640x480 with 1 Axes>"
      ]
     },
     "metadata": {},
     "output_type": "display_data"
    }
   ],
   "source": [
    "# attempts success rate by the number of escapees\n",
    "success_rate_by_escapees = attempt_record.groupby(\"number_of_escapees\")[\"succeeded\"].mean()\n",
    "\n",
    "sns.barplot(x=success_rate_by_escapees.index, y=success_rate_by_escapees.values)\n",
    "plt.show()"
   ]
  },
  {
   "attachments": {},
   "cell_type": "markdown",
   "metadata": {},
   "source": [
    "Wow! We can see that the more escapees, the higher the chance of success. Let's take a closer look at the number of attempt before jumping into a conclusion."
   ]
  },
  {
   "cell_type": "code",
   "execution_count": 17,
   "metadata": {},
   "outputs": [
    {
     "data": {
      "image/png": "[encoded data removed]",
      "text/plain": [
       "<Figure size 640x480 with 1 Axes>"
      ]
     },
     "metadata": {},
     "output_type": "display_data"
    }
   ],
   "source": [
    "# number of attempts by the number of escapees\n",
    "attempts_by_number_escapees = attempt_record.groupby([\"number_of_escapees\", \"succeeded\"]).size().unstack().fillna(0)\n",
    "\n",
    "sns.barplot(x=attempts_by_number_escapees.index, y=attempts_by_number_escapees[True], color=\"red\", bottom=attempts_by_number_escapees[False])\n",
    "sns.barplot(x=attempts_by_number_escapees.index, y=attempts_by_number_escapees[False], color=\"green\")\n",
    "\n",
    "plt.show()"
   ]
  },
  {
   "attachments": {},
   "cell_type": "markdown",
   "metadata": {},
   "source": [
    "Now, we can say for sure that the more escapees, the higher the chance of success. Even though we need more data to make the conclusion more accurate.\n",
    "\n",
    "Given by our last statement from previous question that the United States & Canada have the highest chance of success. Is it because the United States & Canada have the most escapees in one attempt? Let's take a look at the data."
   ]
  },
  {
   "cell_type": "code",
   "execution_count": 18,
   "metadata": {},
   "outputs": [
    {
     "data": {
      "text/html": [
       "<div>\n",
       "<style scoped>\n",
       "    .dataframe tbody tr th:only-of-type {\n",
       "        vertical-align: middle;\n",
       "    }\n",
       "\n",
       "    .dataframe tbody tr th {\n",
       "        vertical-align: top;\n",
       "    }\n",
       "\n",
       "    .dataframe thead th {\n",
       "        text-align: right;\n",
       "    }\n",
       "</style>\n",
       "<table border=\"1\" class=\"dataframe\">\n",
       "  <thead>\n",
       "    <tr style=\"text-align: right;\">\n",
       "      <th></th>\n",
       "      <th>date</th>\n",
       "      <th>prison name</th>\n",
       "      <th>country</th>\n",
       "      <th>succeeded</th>\n",
       "      <th>escappees</th>\n",
       "      <th>number_of_escapees</th>\n",
       "    </tr>\n",
       "  </thead>\n",
       "  <tbody>\n",
       "    <tr>\n",
       "      <th>29</th>\n",
       "      <td>2002-12-30</td>\n",
       "      <td>Las Cucharas prison, Puerto Rico</td>\n",
       "      <td>United States</td>\n",
       "      <td>True</td>\n",
       "      <td>Orlando Cartagena; Jose Rodriguez; Victor Diaz...</td>\n",
       "      <td>6</td>\n",
       "    </tr>\n",
       "    <tr>\n",
       "      <th>2</th>\n",
       "      <td>1978-05-24</td>\n",
       "      <td>United States Penitentiary, Marion</td>\n",
       "      <td>United States</td>\n",
       "      <td>False</td>\n",
       "      <td>Garrett Brock Trapnell;Martin Joseph McNally;J...</td>\n",
       "      <td>3</td>\n",
       "    </tr>\n",
       "    <tr>\n",
       "      <th>6</th>\n",
       "      <td>1985-12-19</td>\n",
       "      <td>Perry Correctional Institution, Pelzer, South ...</td>\n",
       "      <td>United States</td>\n",
       "      <td>True</td>\n",
       "      <td>James Rodney Leonard;William Douglas Ballew;Je...</td>\n",
       "      <td>3</td>\n",
       "    </tr>\n",
       "    <tr>\n",
       "      <th>12</th>\n",
       "      <td>1988-07-11</td>\n",
       "      <td>Santa Fe prison</td>\n",
       "      <td>United States</td>\n",
       "      <td>True</td>\n",
       "      <td>Mahoney Danny ;Francis Mitchell;Randy Lackey</td>\n",
       "      <td>3</td>\n",
       "    </tr>\n",
       "    <tr>\n",
       "      <th>44</th>\n",
       "      <td>2014-06-07</td>\n",
       "      <td>Orsainville Detention Facility, Quebec</td>\n",
       "      <td>Canada</td>\n",
       "      <td>True</td>\n",
       "      <td>Yves Denis;Denis Lefebvre;Serge Pomerleau</td>\n",
       "      <td>3</td>\n",
       "    </tr>\n",
       "    <tr>\n",
       "      <th>4</th>\n",
       "      <td>1981-05-07</td>\n",
       "      <td>Orsainville Prison, Quebec City</td>\n",
       "      <td>Canada</td>\n",
       "      <td>False</td>\n",
       "      <td>Marina Paquet (hijacker);Giles Arseneault (pri...</td>\n",
       "      <td>2</td>\n",
       "    </tr>\n",
       "    <tr>\n",
       "      <th>14</th>\n",
       "      <td>1989-08-19</td>\n",
       "      <td>Arkansas Valley Correctional Facility</td>\n",
       "      <td>United States</td>\n",
       "      <td>True</td>\n",
       "      <td>Ralph Brown;Freddie Gonzales</td>\n",
       "      <td>2</td>\n",
       "    </tr>\n",
       "    <tr>\n",
       "      <th>15</th>\n",
       "      <td>1990-06-19</td>\n",
       "      <td>Kent Penitentiary, British Columbia</td>\n",
       "      <td>Canada</td>\n",
       "      <td>True</td>\n",
       "      <td>Robert Ford;David Thomas</td>\n",
       "      <td>2</td>\n",
       "    </tr>\n",
       "    <tr>\n",
       "      <th>43</th>\n",
       "      <td>2013-03-17</td>\n",
       "      <td>Saint-Jérôme Detention Facility, Quebec</td>\n",
       "      <td>Canada</td>\n",
       "      <td>True</td>\n",
       "      <td>Benjamin Hudon-Barbeau;Danny Provençal</td>\n",
       "      <td>2</td>\n",
       "    </tr>\n",
       "    <tr>\n",
       "      <th>9</th>\n",
       "      <td>1986-11-05</td>\n",
       "      <td>Federal Correctional Institution, Dublin</td>\n",
       "      <td>United States</td>\n",
       "      <td>True</td>\n",
       "      <td>Samantha Lopez</td>\n",
       "      <td>1</td>\n",
       "    </tr>\n",
       "    <tr>\n",
       "      <th>13</th>\n",
       "      <td>1989-04-17</td>\n",
       "      <td>Federal Holding Facility, Miami, FL</td>\n",
       "      <td>United States</td>\n",
       "      <td>False</td>\n",
       "      <td>Ben Kramer</td>\n",
       "      <td>1</td>\n",
       "    </tr>\n",
       "    <tr>\n",
       "      <th>23</th>\n",
       "      <td>2000-06-05</td>\n",
       "      <td>Martin Treatment Center for Sexually Violent P...</td>\n",
       "      <td>United States</td>\n",
       "      <td>True</td>\n",
       "      <td>Steven Whitsett</td>\n",
       "      <td>1</td>\n",
       "    </tr>\n",
       "  </tbody>\n",
       "</table>\n",
       "</div>"
      ],
      "text/plain": [
       "         date                                        prison name  \\\n",
       "29 2002-12-30                   Las Cucharas prison, Puerto Rico   \n",
       "2  1978-05-24                 United States Penitentiary, Marion   \n",
       "6  1985-12-19  Perry Correctional Institution, Pelzer, South ...   \n",
       "12 1988-07-11                                    Santa Fe prison   \n",
       "44 2014-06-07             Orsainville Detention Facility, Quebec   \n",
       "4  1981-05-07                    Orsainville Prison, Quebec City   \n",
       "14 1989-08-19              Arkansas Valley Correctional Facility   \n",
       "15 1990-06-19                Kent Penitentiary, British Columbia   \n",
       "43 2013-03-17            Saint-Jérôme Detention Facility, Quebec   \n",
       "9  1986-11-05           Federal Correctional Institution, Dublin   \n",
       "13 1989-04-17                Federal Holding Facility, Miami, FL   \n",
       "23 2000-06-05  Martin Treatment Center for Sexually Violent P...   \n",
       "\n",
       "          country  succeeded  \\\n",
       "29  United States       True   \n",
       "2   United States      False   \n",
       "6   United States       True   \n",
       "12  United States       True   \n",
       "44         Canada       True   \n",
       "4          Canada      False   \n",
       "14  United States       True   \n",
       "15         Canada       True   \n",
       "43         Canada       True   \n",
       "9   United States       True   \n",
       "13  United States      False   \n",
       "23  United States       True   \n",
       "\n",
       "                                            escappees  number_of_escapees  \n",
       "29  Orlando Cartagena; Jose Rodriguez; Victor Diaz...                   6  \n",
       "2   Garrett Brock Trapnell;Martin Joseph McNally;J...                   3  \n",
       "6   James Rodney Leonard;William Douglas Ballew;Je...                   3  \n",
       "12       Mahoney Danny ;Francis Mitchell;Randy Lackey                   3  \n",
       "44          Yves Denis;Denis Lefebvre;Serge Pomerleau                   3  \n",
       "4   Marina Paquet (hijacker);Giles Arseneault (pri...                   2  \n",
       "14                       Ralph Brown;Freddie Gonzales                   2  \n",
       "15                           Robert Ford;David Thomas                   2  \n",
       "43             Benjamin Hudon-Barbeau;Danny Provençal                   2  \n",
       "9                                      Samantha Lopez                   1  \n",
       "13                                         Ben Kramer                   1  \n",
       "23                                    Steven Whitsett                   1  "
      ]
     },
     "execution_count": 18,
     "metadata": {},
     "output_type": "execute_result"
    }
   ],
   "source": [
    "attempt_record[attempt_record[\"country\"].str.contains(\"Canada|United States\", case=False, regex=True)].sort_values(\"number_of_escapees\", ascending=False)"
   ]
  },
  {
   "attachments": {},
   "cell_type": "markdown",
   "metadata": {},
   "source": [
    "## Question Five: Which Escapees Have Done It More Than Once?"
   ]
  },
  {
   "cell_type": "code",
   "execution_count": 19,
   "metadata": {},
   "outputs": [
    {
     "data": {
      "text/plain": [
       "escappees\n",
       "Pascal Payet       2\n",
       "Michel Vaujour     2\n",
       "Marina Paquet      1\n",
       "Nordin Benallal    1\n",
       "Nikos Maziotis     1\n",
       "dtype: int64"
      ]
     },
     "execution_count": 19,
     "metadata": {},
     "output_type": "execute_result"
    }
   ],
   "source": [
    "# top 5 escapees by number of attempts\n",
    "escapees_attempt.groupby(\"escappees\").size().sort_values(ascending=False).head()"
   ]
  },
  {
   "attachments": {},
   "cell_type": "markdown",
   "metadata": {},
   "source": [
    "So, there is two people who have done it more than once which are Michel Vaujour and Pascal Payet. Let's take a closer look."
   ]
  },
  {
   "cell_type": "code",
   "execution_count": 20,
   "metadata": {},
   "outputs": [
    {
     "data": {
      "text/html": [
       "<div>\n",
       "<style scoped>\n",
       "    .dataframe tbody tr th:only-of-type {\n",
       "        vertical-align: middle;\n",
       "    }\n",
       "\n",
       "    .dataframe tbody tr th {\n",
       "        vertical-align: top;\n",
       "    }\n",
       "\n",
       "    .dataframe thead th {\n",
       "        text-align: right;\n",
       "    }\n",
       "</style>\n",
       "<table border=\"1\" class=\"dataframe\">\n",
       "  <thead>\n",
       "    <tr style=\"text-align: right;\">\n",
       "      <th></th>\n",
       "      <th>date</th>\n",
       "      <th>prison name</th>\n",
       "      <th>country</th>\n",
       "      <th>succeeded</th>\n",
       "      <th>escappees</th>\n",
       "      <th>number_of_escapees</th>\n",
       "    </tr>\n",
       "  </thead>\n",
       "  <tbody>\n",
       "    <tr>\n",
       "      <th>8</th>\n",
       "      <td>1986-05-26</td>\n",
       "      <td>Prison de la Santé</td>\n",
       "      <td>France</td>\n",
       "      <td>True</td>\n",
       "      <td>Michel Vaujour</td>\n",
       "      <td>1</td>\n",
       "    </tr>\n",
       "    <tr>\n",
       "      <th>19</th>\n",
       "      <td>1993-06-17</td>\n",
       "      <td>Touraine Central Prison, Tours</td>\n",
       "      <td>France</td>\n",
       "      <td>False</td>\n",
       "      <td>Michel Vaujour</td>\n",
       "      <td>1</td>\n",
       "    </tr>\n",
       "    <tr>\n",
       "      <th>25</th>\n",
       "      <td>2001-01-19</td>\n",
       "      <td>Luynes prison</td>\n",
       "      <td>France</td>\n",
       "      <td>True</td>\n",
       "      <td>Pascal Payet</td>\n",
       "      <td>1</td>\n",
       "    </tr>\n",
       "    <tr>\n",
       "      <th>35</th>\n",
       "      <td>2007-07-15</td>\n",
       "      <td>Grasse prison</td>\n",
       "      <td>France</td>\n",
       "      <td>True</td>\n",
       "      <td>Pascal Payet</td>\n",
       "      <td>1</td>\n",
       "    </tr>\n",
       "  </tbody>\n",
       "</table>\n",
       "</div>"
      ],
      "text/plain": [
       "         date                     prison name country  succeeded  \\\n",
       "8  1986-05-26              Prison de la Santé  France       True   \n",
       "19 1993-06-17  Touraine Central Prison, Tours  France      False   \n",
       "25 2001-01-19                   Luynes prison  France       True   \n",
       "35 2007-07-15                   Grasse prison  France       True   \n",
       "\n",
       "         escappees  number_of_escapees  \n",
       "8   Michel Vaujour                   1  \n",
       "19  Michel Vaujour                   1  \n",
       "25    Pascal Payet                   1  \n",
       "35    Pascal Payet                   1  "
      ]
     },
     "execution_count": 20,
     "metadata": {},
     "output_type": "execute_result"
    }
   ],
   "source": [
    "attempt_record[attempt_record[\"escappees\"].str.contains(\"Pascal Payet|Michel Vaujour\", case=False, regex=True)]"
   ]
  },
  {
   "attachments": {},
   "cell_type": "markdown",
   "metadata": {},
   "source": [
    "We see that both Michel Vaujour and Pascal Payet are Frencs escapees. Michel Vaujour is the first one to attempt to escape more than once while the first one is a success the last one is a failure. Then Pascal Payet with all of his attempts are successful."
   ]
  },
  {
   "attachments": {},
   "cell_type": "markdown",
   "metadata": {},
   "source": [
    "# Conclusion"
   ]
  },
  {
   "attachments": {},
   "cell_type": "markdown",
   "metadata": {},
   "source": [
    "In this project, we analyzed the data about helicopter prison escapes. To my surprise, most of the attempts were successful which 34 successful attempts out of 48 attempts. We also found out that the more escapees, the higher the chance of success. Even though we need more data to make the conclusion more accurate. We also found out that there is two people who have done it more than once surprisingly **alone** which are Michel Vaujour and Pascal Payet."
   ]
  },
  {
   "cell_type": "markdown",
   "metadata": {},
   "source": []
  }
 ],
 "metadata": {
  "kernelspec": {
   "display_name": "envDataScience",
   "language": "python",
   "name": "python3"
  },
  "language_info": {
   "codemirror_mode": {
    "name": "ipython",
    "version": 3
   },
   "file_extension": ".py",
   "mimetype": "text/x-python",
   "name": "python",
   "nbconvert_exporter": "python",
   "pygments_lexer": "ipython3",
   "version": "3.10.6"
  },
  "orig_nbformat": 4
 },
 "nbformat": 4,
 "nbformat_minor": 2
}
